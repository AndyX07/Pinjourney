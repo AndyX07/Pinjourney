{
  "cells": [
    {
      "cell_type": "code",
      "execution_count": null,
      "metadata": {
        "id": "OEG3OXjoq_5L"
      },
      "outputs": [],
      "source": [
        "!pip install -q transformers sentence-transformers faiss-cpu"
      ]
    },
    {
      "cell_type": "code",
      "execution_count": null,
      "metadata": {
        "id": "fbJE7YnuyoLb"
      },
      "outputs": [],
      "source": [
        "import pandas as pd\n",
        "from transformers import pipeline, AutoTokenizer, AutoModelForCausalLM\n",
        "from sentence_transformers import SentenceTransformer, util\n",
        "import numpy as np\n",
        "\n",
        "from google.colab import files\n",
        "uploaded = files.upload()"
      ]
    },
    {
      "cell_type": "code",
      "execution_count": null,
      "metadata": {
        "id": "OqCvOUv_qHXC"
      },
      "outputs": [],
      "source": [
        "import os\n",
        "import zipfile\n",
        "\n",
        "os.makedirs(\"/root/.kaggle\", exist_ok=True)\n",
        "!mv kaggle.json /root/.kaggle/kaggle.json\n",
        "!chmod 600 /root/.kaggle/kaggle.json"
      ]
    },
    {
      "cell_type": "code",
      "execution_count": null,
      "metadata": {
        "id": "ybrw4iBZqK8Y"
      },
      "outputs": [],
      "source": [
        "!kaggle datasets download -d leondesilva1/travel-destinations"
      ]
    },
    {
      "cell_type": "code",
      "execution_count": null,
      "metadata": {
        "id": "6n4yNJ0LqYQ3"
      },
      "outputs": [],
      "source": [
        "!unzip travel-destinations.zip"
      ]
    },
    {
      "cell_type": "code",
      "execution_count": null,
      "metadata": {
        "id": "_kXG7qAgqgf8"
      },
      "outputs": [],
      "source": [
        "import pandas as pd\n",
        "\n",
        "df = pd.read_csv(\"travel_destinations.csv\")\n",
        "df = df[['City', 'Country', \"Category\"]]\n",
        "df.head()"
      ]
    },
    {
      "cell_type": "code",
      "execution_count": null,
      "metadata": {
        "id": "4sLceQFzyk3w"
      },
      "outputs": [],
      "source": [
        "embedder = SentenceTransformer(\"all-MiniLM-L6-v2\")\n",
        "embeddings = embedder.encode(df[\"Category\"].tolist(), show_progress_bar=True)\n",
        "embeddings = np.asarray(embeddings, dtype=\"float32\")"
      ]
    },
    {
      "cell_type": "code",
      "execution_count": null,
      "metadata": {
        "id": "Kqu6vLQRJHyV"
      },
      "outputs": [],
      "source": [
        "!pip install supabase"
      ]
    },
    {
      "cell_type": "code",
      "execution_count": null,
      "metadata": {
        "id": "P_HsddbPJuRI"
      },
      "outputs": [],
      "source": [
        "import supabase\n",
        "from supabase import create_client\n",
        "\n",
        "url = \"https://your-project-id.supabase.co\"\n",
        "key = \"your-supabase-service-role-key\"\n",
        "supabase = create_client(url, key)\n",
        "\n",
        "for i, row in df.iterrows():\n",
        "    payload = {\n",
        "        \"city\": row[\"City\"],\n",
        "        \"country\": row[\"Country\"],\n",
        "        \"category\": row[\"Category\"],\n",
        "        \"embedding\": embeddings[i].tolist(),\n",
        "    }\n",
        "    response = supabase.table(\"travel_cities\").insert(payload).execute()"
      ]
    }
  ],
  "metadata": {
    "colab": {
      "history_visible": true,
      "provenance": []
    },
    "kernelspec": {
      "display_name": "Python 3",
      "name": "python3"
    },
    "language_info": {
      "name": "python"
    }
  },
  "nbformat": 4,
  "nbformat_minor": 0
}
